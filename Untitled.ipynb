{
 "cells": [
  {
   "cell_type": "code",
   "execution_count": 1,
   "id": "7cc12bad",
   "metadata": {},
   "outputs": [],
   "source": [
    "import requests\n",
    "import pandas as pd"
   ]
  },
  {
   "cell_type": "code",
   "execution_count": 3,
   "id": "08a8708c",
   "metadata": {},
   "outputs": [
    {
     "name": "stdout",
     "output_type": "stream",
     "text": [
      "    Unnamed: 0                                                  0\n",
      "0            0  Temperature in Cairo is 16.42°C and the weathe...\n",
      "1            1  Temperature in Lagos is 29.18°C and the weathe...\n",
      "2            2  Temperature in Nairobi is 19.62°C and the weat...\n",
      "3            3  Temperature in Accra is 29.23°C and the weathe...\n",
      "4            4  Temperature in Johannesburg is 20.69°C and the...\n",
      "5            5  Temperature in Casablanca is 15.79°C and the w...\n",
      "6            6  Temperature in Luanda is 28°C and the weather ...\n",
      "7            7  Temperature in Tunis is 18.89°C and the weathe...\n",
      "8            8  Temperature in Dakar is 25.07°C and the weathe...\n",
      "9            9  Temperature in Maputo is 25.82°C and the weath...\n",
      "10          10  Temperature in Conakry is 31.04°C and the weat...\n",
      "11          11  Temperature in Gaborone is 27.95°C and the wea...\n",
      "12          12  Temperature in Bamako is 28.23°C and the weath...\n",
      "13          13  Temperature in Lusaka is 16.43°C and the weath...\n",
      "14          14  Temperature in Maseru is 21.54°C and the weath...\n"
     ]
    }
   ],
   "source": [
    "def get_weather(api_key, city):\n",
    "    base_url = \"http://api.openweathermap.org/data/2.5/weather\"\n",
    "    params = {\n",
    "        'q': city,\n",
    "        'appid': api_key,\n",
    "        'units' : 'metric'\n",
    "    }\n",
    "\n",
    "    try:\n",
    "        response = requests.get(base_url, params=params)\n",
    "        response.raise_for_status()\n",
    "        data = response.json()\n",
    "\n",
    "        temperature = data['main']['temp']\n",
    "        description = data['weather'][0]['description']\n",
    "        return f\"Temperature in {city} is {temperature}°C and the weather is {description}\"\n",
    "    except requests.exceptions.RequestException as e:\n",
    "        return f\"Error connecting to OpenWeatherMap API: {e}\"\n",
    "    \n",
    "api_key = \"0f742097a737c47ecf2da205e62a0853\"\n",
    "cities = ['Cairo', 'Lagos', 'Nairobi', 'Accra', 'Johannesburg', 'Casablanca', \n",
    "               'Luanda', 'Tunis', 'Der es Salaam', 'Addis Abbaba', 'Dakar', 'Abidjan'\n",
    "               'Kampala', 'Maputo', 'Conakry', 'Gaborone', 'Bamako', 'Lusaka', 'Maseru'\n",
    "               ]\n",
    "# city = \"Toronto\"\n",
    "weather_data = []\n",
    "for city in cities:\n",
    "    data = get_weather(api_key, city)\n",
    "    if 'Error connecting to OpenWeatherMap API' in data:\n",
    "        continue\n",
    "    weather_data.append(data)\n",
    "\n",
    "df = pd.DataFrame(weather_data)\n",
    "\n",
    "df.to_csv('weather_data.csv')\n",
    "data = pd.read_csv('weather_data.csv')\n",
    "print(data)"
   ]
  }
 ],
 "metadata": {
  "kernelspec": {
   "display_name": "Jupyter",
   "language": "python",
   "name": "jupyter"
  },
  "language_info": {
   "codemirror_mode": {
    "name": "ipython",
    "version": 3
   },
   "file_extension": ".py",
   "mimetype": "text/x-python",
   "name": "python",
   "nbconvert_exporter": "python",
   "pygments_lexer": "ipython3",
   "version": "3.9.7"
  }
 },
 "nbformat": 4,
 "nbformat_minor": 5
}
